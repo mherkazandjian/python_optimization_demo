{
 "cells": [
  {
   "cell_type": "markdown",
   "id": "787a3a4a",
   "metadata": {},
   "source": [
    "WARNING:\n",
    "some packages will probably be upgraded. Some packages.\n",
    "Create a virtual env if you want to keep your packages intact."
   ]
  },
  {
   "cell_type": "code",
   "execution_count": null,
   "id": "9ea35e1c",
   "metadata": {},
   "outputs": [],
   "source": [
    "#!pip3 install --user pillow==11.1.0 numba==0.61.0\n",
    "#!pip3 install --user numpy==2.1.3 scipy==1.15.2\n",
    "#!pip3 install --user imageio==2.37.0"
   ]
  },
  {
   "cell_type": "code",
   "execution_count": null,
   "id": "194b2981",
   "metadata": {
    "lines_to_next_cell": 0
   },
   "outputs": [],
   "source": [
    "## Load an image (1000 x 1000 pixels) and display it"
   ]
  },
  {
   "cell_type": "code",
   "execution_count": null,
   "id": "8c0d4f9b",
   "metadata": {},
   "outputs": [],
   "source": [
    "import numpy\n",
    "from imageio import imread\n",
    "\n",
    "mat = imread('sample.jpg').astype('f8')\n",
    "m, n = mat.shape"
   ]
  },
  {
   "cell_type": "code",
   "execution_count": null,
   "id": "c12d609f",
   "metadata": {
    "lines_to_next_cell": 0
   },
   "outputs": [],
   "source": [
    "%matplotlib inline\n",
    "from matplotlib import pyplot\n",
    "pyplot.imshow(mat, cmap='gray')\n",
    "pyplot.colorbar()\n",
    "pyplot.title('Grayscale Image')\n",
    "pyplot.show()"
   ]
  },
  {
   "cell_type": "code",
   "execution_count": null,
   "id": "987bd42b",
   "metadata": {
    "lines_to_next_cell": 0
   },
   "outputs": [],
   "source": [
    "# Pure Python Implementation\n",
    "\n",
    "### utility function that generates a matrix as a list of lists"
   ]
  },
  {
   "cell_type": "code",
   "execution_count": null,
   "id": "9d366bcf",
   "metadata": {
    "lines_to_next_cell": 0
   },
   "outputs": [],
   "source": [
    "def generate_zeros_matrix(m, n):\n",
    "    return [[0 for _ in range(n)] for _ in range(m)]"
   ]
  },
  {
   "cell_type": "code",
   "execution_count": null,
   "id": "0a226cdc",
   "metadata": {
    "lines_to_next_cell": 0
   },
   "outputs": [],
   "source": [
    "### function that apply the filter by iterating over columns"
   ]
  },
  {
   "cell_type": "code",
   "execution_count": null,
   "id": "64579ba7",
   "metadata": {
    "lines_to_next_cell": 1
   },
   "outputs": [],
   "source": [
    "def laplacian_filter_pure_python(mat, retval):\n",
    "    for c in range(1, n - 1):\n",
    "        for r in range(1, m - 1):\n",
    "            retval[r][c] = -4.0*mat[r][c] +     \\\n",
    "                                mat[r-1][c] +   \\\n",
    "                                mat[r+1][c] +   \\\n",
    "                                mat[r][c - 1] + \\\n",
    "                                mat[r][c + 1]\n",
    "\n",
    "### function that apply the filter by iterating over rows\n",
    "def laplacian_filter_pure_python_row_sweep(mat, retval):\n",
    "    for r in range(1, m - 1):\n",
    "        for c in range(1, n - 1):\n",
    "            retval[r][c] = -4.0*mat[r][c] +      \\\n",
    "                                mat[r-1][c] +    \\\n",
    "                                mat[r+1][c] +    \\\n",
    "                                mat[r][c - 1] +  \\\n",
    "                                mat[r][c + 1]"
   ]
  },
  {
   "cell_type": "code",
   "execution_count": null,
   "id": "f4fb0fe8",
   "metadata": {},
   "outputs": [],
   "source": [
    "# convert the numpy image to a list of lists\n",
    "mat_list_of_lists = [[pixel for pixel in row] for row in mat]\n",
    "\n",
    "# create the matrix that will hold the \"filtered\" image (with the edges)\n",
    "mat_edges = generate_zeros_matrix(m, n)"
   ]
  },
  {
   "cell_type": "code",
   "execution_count": null,
   "id": "7868ff0f",
   "metadata": {
    "lines_to_next_cell": 0
   },
   "outputs": [],
   "source": [
    "# apply the filter and display the convolved image\n",
    "laplacian_filter_pure_python(mat_list_of_lists, mat_edges)\n",
    "\n",
    "# convert the list of lists back to a numpy array\n",
    "mat_edges = numpy.array(mat_edges)\n",
    "\n",
    "# Display the convolved image with a narrowed colorbar\n",
    "pyplot.imshow(mat_edges > 0, cmap='gray')\n",
    "pyplot.colorbar()\n",
    "pyplot.title('Laplacian Filter - Edges Detected')\n",
    "pyplot.tight_layout()\n",
    "pyplot.show()"
   ]
  },
  {
   "cell_type": "code",
   "execution_count": null,
   "id": "ad9e2579",
   "metadata": {
    "lines_to_next_cell": 0
   },
   "outputs": [],
   "source": [
    "timeit_pure_python = %timeit -o laplacian_filter_pure_python(mat_list_of_lists, mat_edges)\n",
    "time_pure_python = timeit_pure_python.best\n",
    "\n",
    "# save the value into a dictionary\n",
    "time_results = {'Pure Python': time_pure_python}"
   ]
  },
  {
   "cell_type": "code",
   "execution_count": null,
   "id": "24a04f4d",
   "metadata": {
    "lines_to_next_cell": 0
   },
   "outputs": [],
   "source": [
    "timeit_pure_python_row_sweep = %timeit -o laplacian_filter_pure_python_row_sweep(mat_list_of_lists, mat_edges)\n",
    "time_row_sweep = timeit_pure_python_row_sweep.best\n",
    "\n",
    "# save the value into a dictionary\n",
    "time_results['Pure Python Row Sweep'] = time_row_sweep\n",
    "\n",
    "# plot the results\n",
    "pyplot.bar(time_results.keys(), time_results.values())\n",
    "pyplot.ylabel('Time (s)')\n",
    "pyplot.title('Execution Time')\n",
    "pyplot.show()"
   ]
  },
  {
   "cell_type": "code",
   "execution_count": null,
   "id": "6d34aed4",
   "metadata": {
    "lines_to_next_cell": 0
   },
   "outputs": [],
   "source": [
    "\n",
    "# Numpy"
   ]
  },
  {
   "cell_type": "code",
   "execution_count": null,
   "id": "54e083b8",
   "metadata": {
    "lines_to_next_cell": 0
   },
   "outputs": [],
   "source": [
    "\n",
    "## Iterate over the numpy array with python loops"
   ]
  },
  {
   "cell_type": "code",
   "execution_count": null,
   "id": "4f559660",
   "metadata": {
    "lines_to_next_cell": 0
   },
   "outputs": [],
   "source": [
    "def laplacian_filter_numpy_python_loops(mat, retval):\n",
    "    m, n = mat.shape\n",
    "    for r in range(1, m - 1):\n",
    "        for c in range(1, n - 1):\n",
    "            retval[r][c] = -4.0*mat[r,c] +     \\\n",
    "                                mat[r-1,c] +   \\\n",
    "                                mat[r+1,c] +   \\\n",
    "                                mat[r,c - 1] + \\\n",
    "                                mat[r,c + 1]\n",
    "    return retval"
   ]
  },
  {
   "cell_type": "code",
   "execution_count": null,
   "id": "959def82",
   "metadata": {
    "lines_to_next_cell": 0
   },
   "outputs": [],
   "source": [
    "mat_edges = numpy.zeros_like(mat)\n",
    "laplacian_filter_numpy_python_loops(mat, mat_edges)\n",
    "pyplot.imshow(mat_edges > 0, cmap='gray')\n",
    "pyplot.colorbar()\n",
    "pyplot.title('Laplacian Filter - Edges Detected')\n",
    "pyplot.tight_layout()\n",
    "pyplot.show()"
   ]
  },
  {
   "cell_type": "code",
   "execution_count": null,
   "id": "5ae90dba",
   "metadata": {
    "lines_to_next_cell": 0
   },
   "outputs": [],
   "source": [
    "timeit_numpy_python_loop = %timeit -o laplacian_filter_numpy_python_loops(mat, mat_edges)\n",
    "time_numpy_python_loop = timeit_numpy_python_loop.best\n",
    "\n",
    "# save the value into a dictionary\n",
    "time_results['Numpy Python Loops'] = time_numpy_python_loop\n",
    "\n",
    "# plot the results\n",
    "pyplot.bar(time_results.keys(), time_results.values())\n",
    "pyplot.ylabel('Time (s)')\n",
    "pyplot.title('Execution Time')\n",
    "pyplot.xticks(rotation=45)\n",
    "pyplot.tight_layout()\n",
    "pyplot.show()"
   ]
  },
  {
   "cell_type": "code",
   "execution_count": null,
   "id": "de4c6b9e",
   "metadata": {
    "lines_to_next_cell": 0
   },
   "outputs": [],
   "source": [
    "\n",
    "## Numpy vectorized operations only (no explicit python loops)"
   ]
  },
  {
   "cell_type": "code",
   "execution_count": null,
   "id": "da011813",
   "metadata": {
    "lines_to_next_cell": 0
   },
   "outputs": [],
   "source": [
    "from functools import reduce\n",
    "def laplacian_filter_numpy_roll(mat):\n",
    "    mat_ext = numpy.pad(mat, 1, 'constant')\n",
    "\n",
    "    rolled = [\n",
    "        numpy.roll(mat_ext, 1, 0),\n",
    "        numpy.roll(mat_ext, -1, 0),\n",
    "        numpy.roll(mat_ext, 1, 1),\n",
    "        numpy.roll(mat_ext, -1, 1)\n",
    "    ]\n",
    "    retval = reduce(numpy.add, rolled)[1:-1, 1:-1] - 4.0*mat\n",
    "    return retval"
   ]
  },
  {
   "cell_type": "code",
   "execution_count": null,
   "id": "22f49f0b",
   "metadata": {
    "lines_to_next_cell": 0
   },
   "outputs": [],
   "source": [
    "mat_edges = laplacian_filter_numpy_roll(mat)\n",
    "pyplot.imshow(mat_edges > 0, cmap='gray')\n",
    "pyplot.colorbar()\n",
    "pyplot.title('Laplacian Filter - Edges Detected')\n",
    "pyplot.tight_layout()\n",
    "pyplot.show()"
   ]
  },
  {
   "cell_type": "code",
   "execution_count": null,
   "id": "d62126e5",
   "metadata": {
    "lines_to_next_cell": 0
   },
   "outputs": [],
   "source": [
    "timeit_numpy_roll = %timeit -o laplacian_filter_numpy_roll(mat)\n",
    "time_numpy_roll = timeit_numpy_roll.best\n",
    "\n",
    "# save the value into a dictionary\n",
    "time_results['Numpy Roll'] = time_numpy_roll\n",
    "\n",
    "# plot the results in log scale\n",
    "pyplot.bar(time_results.keys(), time_results.values())\n",
    "pyplot.ylabel('Time (s)')\n",
    "pyplot.title('Execution Time')\n",
    "pyplot.xticks(rotation=90)\n",
    "pyplot.tight_layout()\n",
    "pyplot.yscale('log')  # set y-axis to log scale\n",
    "pyplot.show()"
   ]
  },
  {
   "cell_type": "code",
   "execution_count": null,
   "id": "b8519134",
   "metadata": {
    "lines_to_next_cell": 0
   },
   "outputs": [],
   "source": [
    "\n",
    "## Numpy operations only (lower memory footprint)"
   ]
  },
  {
   "cell_type": "code",
   "execution_count": null,
   "id": "49216784",
   "metadata": {
    "lines_to_next_cell": 0
   },
   "outputs": [],
   "source": [
    "def laplacian_filter_numpy_map_reduce(mat):\n",
    "\n",
    "    mat_ext = numpy.pad(mat, 1, 'constant')\n",
    "\n",
    "    retval = reduce(\n",
    "        numpy.add,\n",
    "        map(lambda args: numpy.roll(\n",
    "            mat_ext, shift=args[0],\n",
    "            axis=args[1]),\n",
    "            [[-1, 0], [1, 0], [-1, 1], [1, 1]])\n",
    "    )\n",
    "\n",
    "    return retval[1:-1, 1:-1] - 4.0*mat"
   ]
  },
  {
   "cell_type": "code",
   "execution_count": null,
   "id": "3192c43e",
   "metadata": {
    "lines_to_next_cell": 0
   },
   "outputs": [],
   "source": [
    "mat_edges = laplacian_filter_numpy_map_reduce(mat)\n",
    "pyplot.imshow(mat_edges > 0, cmap='gray')\n",
    "pyplot.colorbar()\n",
    "pyplot.title('Laplacian Filter - Edges Detected')\n",
    "pyplot.tight_layout()\n",
    "pyplot.show()"
   ]
  },
  {
   "cell_type": "code",
   "execution_count": null,
   "id": "74be4c80",
   "metadata": {
    "lines_to_next_cell": 0
   },
   "outputs": [],
   "source": [
    "timeit_numpy_map_reduce =  %timeit -o laplacian_filter_numpy_map_reduce(mat)\n",
    "time_numpy_map_reduce = timeit_numpy_map_reduce.best\n",
    "\n",
    "# save the value into a dictionary\n",
    "time_results['Numpy Map-Reduce'] = time_numpy_map_reduce\n",
    "\n",
    "# plot the results in log scale\n",
    "pyplot.bar(time_results.keys(), time_results.values())\n",
    "pyplot.ylabel('Time (s)')\n",
    "pyplot.title('Execution Time')\n",
    "pyplot.xticks(rotation=90)\n",
    "pyplot.tight_layout()\n",
    "pyplot.yscale('log')  # set y-axis to log scale\n",
    "pyplot.show()"
   ]
  },
  {
   "cell_type": "code",
   "execution_count": null,
   "id": "4c42126a",
   "metadata": {
    "lines_to_next_cell": 0
   },
   "outputs": [],
   "source": [
    "## Pure python code + numba\n",
    "\n",
    "#https://github.com/numba/numba"
   ]
  },
  {
   "cell_type": "code",
   "execution_count": null,
   "id": "1647182d",
   "metadata": {
    "lines_to_next_cell": 1
   },
   "outputs": [],
   "source": [
    "from numba import jit"
   ]
  },
  {
   "cell_type": "code",
   "execution_count": null,
   "id": "05113c1e",
   "metadata": {
    "lines_to_next_cell": 0
   },
   "outputs": [],
   "source": [
    "\n",
    "### only difference between \"laplacian_filter_numpy_python_loops\" is \"@jit\""
   ]
  },
  {
   "cell_type": "code",
   "execution_count": null,
   "id": "27a3b576",
   "metadata": {
    "lines_to_next_cell": 0
   },
   "outputs": [],
   "source": [
    "@jit\n",
    "def laplacian_filter_numba(mat, retval):\n",
    "    m, n = mat.shape\n",
    "    for c in range(1, n - 1):\n",
    "        for r in range(1, m - 1):\n",
    "            retval[r, c] = -4.0*mat[r, c] +     \\\n",
    "                                mat[r-1, c] +   \\\n",
    "                                mat[r+1, c] +   \\\n",
    "                                mat[r, c - 1] + \\\n",
    "                                mat[r, c + 1]"
   ]
  },
  {
   "cell_type": "code",
   "execution_count": null,
   "id": "52c29869",
   "metadata": {
    "lines_to_next_cell": 0
   },
   "outputs": [],
   "source": [
    "\n",
    "### iterate over the rows instead of columns"
   ]
  },
  {
   "cell_type": "code",
   "execution_count": null,
   "id": "4b5dde99",
   "metadata": {
    "lines_to_next_cell": 0
   },
   "outputs": [],
   "source": [
    "@jit\n",
    "def laplacian_filter_numba_row(mat, retval):\n",
    "    m, n = mat.shape\n",
    "    for r in range(1, m - 1):\n",
    "        for c in range(1, n - 1):\n",
    "            retval[r, c] = -4.0*mat[r, c] +     \\\n",
    "                                mat[r-1, c] +   \\\n",
    "                                mat[r+1, c] +   \\\n",
    "                                mat[r, c - 1] + \\\n",
    "                                mat[r, c + 1]"
   ]
  },
  {
   "cell_type": "code",
   "execution_count": null,
   "id": "de274f9e",
   "metadata": {
    "lines_to_next_cell": 0
   },
   "outputs": [],
   "source": [
    "laplacian_filter_numba(mat, mat_edges)\n",
    "pyplot.imshow(mat_edges > 0, cmap='gray')\n",
    "pyplot.colorbar()\n",
    "pyplot.title('Laplacian Filter - Edges Detected')\n",
    "pyplot.tight_layout()\n",
    "pyplot.show()"
   ]
  },
  {
   "cell_type": "code",
   "execution_count": null,
   "id": "b428ae58",
   "metadata": {},
   "outputs": [],
   "source": [
    "timeit_numba = %timeit -o laplacian_filter_numba(mat, mat_edges)\n",
    "time_numba = timeit_numba.best\n",
    "\n",
    "# save the value into a dictionary\n",
    "time_results['Numba'] = time_numba"
   ]
  },
  {
   "cell_type": "code",
   "execution_count": null,
   "id": "bdf19a1b",
   "metadata": {
    "lines_to_next_cell": 0
   },
   "outputs": [],
   "source": [
    "timeit_numpy_python_loop = %timeit -o laplacian_filter_numba_row(mat, mat_edges)\n",
    "time_numba_python_loop = timeit_numpy_python_loop.best\n",
    "\n",
    "time_results['Numba Python Loop'] = time_numba_python_loop\n",
    "\n",
    "pyplot.bar(time_results.keys(), time_results.values())\n",
    "pyplot.ylabel('Time (s)')\n",
    "pyplot.title('Execution Time')\n",
    "pyplot.xticks(rotation=90)\n",
    "pyplot.tight_layout()\n",
    "pyplot.yscale('log')  # set y-axis to log scale\n",
    "pyplot.show()"
   ]
  },
  {
   "cell_type": "code",
   "execution_count": null,
   "id": "6c88289a",
   "metadata": {
    "lines_to_next_cell": 0
   },
   "outputs": [],
   "source": [
    "# Cython\n",
    "#https://github.com/cython/cython"
   ]
  },
  {
   "cell_type": "code",
   "execution_count": null,
   "id": "822bd771",
   "metadata": {
    "lines_to_next_cell": 0
   },
   "outputs": [],
   "source": [
    "!cat cython_bindings/*.pyx"
   ]
  },
  {
   "cell_type": "code",
   "execution_count": null,
   "id": "262c4021",
   "metadata": {
    "lines_to_next_cell": 0
   },
   "outputs": [],
   "source": [
    "!cat cython_bindings/setup.py"
   ]
  },
  {
   "cell_type": "code",
   "execution_count": null,
   "id": "6c94f3ae",
   "metadata": {
    "lines_to_next_cell": 0
   },
   "outputs": [],
   "source": [
    "!rm -fvr cython_bindings/*.so\n",
    "!cd cython_bindings && python3 setup.py build_ext --inplace"
   ]
  },
  {
   "cell_type": "code",
   "execution_count": null,
   "id": "dd959142",
   "metadata": {
    "lines_to_next_cell": 0
   },
   "outputs": [],
   "source": [
    "from cython_bindings.cython_binding import laplacian_filter_py"
   ]
  },
  {
   "cell_type": "code",
   "execution_count": null,
   "id": "a2158337",
   "metadata": {
    "lines_to_next_cell": 0
   },
   "outputs": [],
   "source": [
    "### prepare the data (flatten it)"
   ]
  },
  {
   "cell_type": "code",
   "execution_count": null,
   "id": "2493aae4",
   "metadata": {
    "lines_to_next_cell": 0
   },
   "outputs": [],
   "source": [
    "m, n = mat.shape\n",
    "mat_flat = mat.flatten()\n",
    "mat_edges_flat = numpy.zeros_like(mat_flat)"
   ]
  },
  {
   "cell_type": "code",
   "execution_count": null,
   "id": "189741d3",
   "metadata": {
    "lines_to_next_cell": 0
   },
   "outputs": [],
   "source": [
    "laplacian_filter_py(mat_flat, m, n, mat_edges_flat)\n",
    "pyplot.imshow(mat_edges.reshape(m, n) > 0, cmap='gray')\n",
    "pyplot.colorbar()\n",
    "pyplot.title('Laplacian Filter - Edges Detected')\n",
    "pyplot.tight_layout()\n",
    "pyplot.show()"
   ]
  },
  {
   "cell_type": "code",
   "execution_count": null,
   "id": "4890eccb",
   "metadata": {
    "lines_to_next_cell": 0
   },
   "outputs": [],
   "source": [
    "timeit_cython = %timeit -o laplacian_filter_py(mat_flat, m, n, mat_edges_flat)\n",
    "time_cython = timeit_cython.best\n",
    "\n",
    "# save the value into a dictionary\n",
    "time_results['Cython'] = time_cython\n",
    "\n",
    "pyplot.bar(time_results.keys(), time_results.values())\n",
    "pyplot.ylabel('Time (s)')\n",
    "pyplot.title('Execution Time')\n",
    "pyplot.xticks(rotation=90)\n",
    "pyplot.tight_layout()\n",
    "pyplot.yscale('log')  # set y-axis to log scale\n",
    "pyplot.show()"
   ]
  },
  {
   "cell_type": "code",
   "execution_count": null,
   "id": "6e4295f6",
   "metadata": {},
   "outputs": [],
   "source": [
    "# Ctypes\n",
    "#https://docs.python.org/3/library/ctypes.html"
   ]
  },
  {
   "cell_type": "code",
   "execution_count": null,
   "id": "cc943e4b",
   "metadata": {},
   "outputs": [],
   "source": [
    "## Using gcc"
   ]
  },
  {
   "cell_type": "code",
   "execution_count": null,
   "id": "98d5d33a",
   "metadata": {
    "lines_to_next_cell": 0
   },
   "outputs": [],
   "source": [
    "%%file laplacian_filter_gcc.c\n",
    "\n",
    "#include <stdio.h>\n",
    "#include <stdlib.h>\n",
    "\n",
    "void laplacian_filter_gcc(double *mat, const int m, const int n, double *retval)\n",
    "{\n",
    "    for( int r = 1; r < m - 1; r++)\n",
    "    {\n",
    "        const int offset = r*n;\n",
    "\n",
    "        for( int c = 1; c < n - 1; c++)\n",
    "        {\n",
    "            const int i = offset + c;\n",
    "            const int i_top = offset + n + c;\n",
    "            const int i_bottom = offset - n + c;\n",
    "            const int i_left = offset + (c-1);\n",
    "            const int i_right = offset + (c+1);\n",
    "\n",
    "            retval[i] = -4.0*mat[i] + mat[i_bottom] + mat[i_top] + mat[i_left] + mat[i_right];\n",
    "        }\n",
    "    }\n",
    "}"
   ]
  },
  {
   "cell_type": "code",
   "execution_count": null,
   "id": "de441b34",
   "metadata": {
    "lines_to_next_cell": 0
   },
   "outputs": [],
   "source": [
    "!gcc laplacian_filter_gcc.c -std=c99 -shared -fPIC -O3 -o laplacian_filter_gcc.so"
   ]
  },
  {
   "cell_type": "code",
   "execution_count": null,
   "id": "58739f64",
   "metadata": {
    "lines_to_next_cell": 0
   },
   "outputs": [],
   "source": [
    "!ls -l laplacian_filter_gcc.so"
   ]
  },
  {
   "cell_type": "code",
   "execution_count": null,
   "id": "28bc4bbf",
   "metadata": {
    "lines_to_next_cell": 0
   },
   "outputs": [],
   "source": [
    "import os\n",
    "import ctypes\n",
    "\n",
    "# load the function from the shared library\n",
    "clib = ctypes.cdll.LoadLibrary(os.path.join(os.getcwd(), 'laplacian_filter_gcc.so'))\n",
    "clib.laplacian_filter_gcc.argtypes = [\n",
    "    ctypes.POINTER(ctypes.c_double),\n",
    "    ctypes.c_int,\n",
    "    ctypes.c_int,\n",
    "    ctypes.POINTER(ctypes.c_double),\n",
    "]\n",
    "\n",
    "\n",
    "def laplacian_filter_ctypes_gcc(mat, m, n, retval):\n",
    "    mat_ptr = mat.ctypes.data_as(ctypes.POINTER(ctypes.c_double))\n",
    "    retval_ptr = retval.ctypes.data_as(ctypes.POINTER(ctypes.c_double))\n",
    "\n",
    "    clib.laplacian_filter_gcc(mat_ptr, m, n, retval_ptr)"
   ]
  },
  {
   "cell_type": "code",
   "execution_count": null,
   "id": "a3cc0f98",
   "metadata": {
    "lines_to_next_cell": 0
   },
   "outputs": [],
   "source": [
    "laplacian_filter_ctypes_gcc(mat_flat, m, n, mat_edges_flat)\n",
    "pyplot.imshow(mat_edges_flat.reshape(m, n) > 0, cmap='gray')\n",
    "pyplot.colorbar()\n",
    "pyplot.title('Laplacian Filter - Edges Detected')\n",
    "pyplot.tight_layout()\n",
    "pyplot.show()"
   ]
  },
  {
   "cell_type": "code",
   "execution_count": null,
   "id": "250c7aa8",
   "metadata": {},
   "outputs": [],
   "source": [
    "timeit_ctypes = %timeit -o laplacian_filter_ctypes_gcc(mat_flat, m, n, mat_edges_flat)\n",
    "time_ctypes = timeit_ctypes.best\n",
    "\n",
    "# save the value into a dictionary\n",
    "time_results['Ctypes GCC'] = time_ctypes\n",
    "\n",
    "pyplot.bar(time_results.keys(), time_results.values())\n",
    "pyplot.ylabel('Time (s)')\n",
    "pyplot.title('Execution Time')\n",
    "pyplot.xticks(rotation=90)\n",
    "pyplot.tight_layout()\n",
    "pyplot.yscale('log')  # set y-axis to log scale\n",
    "pyplot.show()"
   ]
  },
  {
   "cell_type": "code",
   "execution_count": null,
   "id": "5fc8b8c7",
   "metadata": {
    "lines_to_next_cell": 0
   },
   "outputs": [],
   "source": [
    "%%file laplacian_filter_gcc_opt.c\n",
    "\n",
    "#include <stdio.h>\n",
    "#include <stdlib.h>\n",
    "#include <immintrin.h>\n",
    "\n",
    "void laplacian_filter_gcc_opt(double *mat, const int m, const int n, double *retval)\n",
    "{\n",
    "    // Load constant for multiplication by -4\n",
    "    const __m512d neg_four = _mm512_set1_pd(-4.0);\n",
    "\n",
    "    for (int r = 1; r < m - 1; r++)\n",
    "    {\n",
    "        const int offset = r * n;\n",
    "\n",
    "        // Process 8 elements at a time with AVX-512\n",
    "        int c = 1;\n",
    "        for (; c < n - 8; c += 8)\n",
    "        {\n",
    "            // Calculate indices\n",
    "            const int i = offset + c;\n",
    "            const int i_top = i + n;\n",
    "            const int i_bottom = i - n;\n",
    "\n",
    "            // Load center elements and multiply by -4\n",
    "            __m512d center = _mm512_loadu_pd(&mat[i]);\n",
    "            __m512d result = _mm512_mul_pd(center, neg_four);\n",
    "\n",
    "            // Load and add top elements\n",
    "            __m512d top = _mm512_loadu_pd(&mat[i_top]);\n",
    "            result = _mm512_add_pd(result, top);\n",
    "\n",
    "            // Load and add bottom elements\n",
    "            __m512d bottom = _mm512_loadu_pd(&mat[i_bottom]);\n",
    "            result = _mm512_add_pd(result, bottom);\n",
    "\n",
    "            // Load and add left elements (shifted by 1)\n",
    "            __m512d left = _mm512_loadu_pd(&mat[i - 1]);\n",
    "            result = _mm512_add_pd(result, left);\n",
    "\n",
    "            // Load and add right elements (shifted by 1)\n",
    "            __m512d right = _mm512_loadu_pd(&mat[i + 1]);\n",
    "            result = _mm512_add_pd(result, right);\n",
    "\n",
    "            // Store the result\n",
    "            _mm512_storeu_pd(&retval[i], result);\n",
    "        }\n",
    "\n",
    "        // Handle remaining elements with scalar code\n",
    "        for (; c < n - 1; c++)\n",
    "        {\n",
    "            const int i = offset + c;\n",
    "            const int i_top = i + n;\n",
    "            const int i_bottom = i - n;\n",
    "            const int i_left = i - 1;\n",
    "            const int i_right = i + 1;\n",
    "\n",
    "            retval[i] = -4.0 * mat[i] + mat[i_bottom] + mat[i_top] + mat[i_left] + mat[i_right];\n",
    "        }\n",
    "    }\n",
    "}"
   ]
  },
  {
   "cell_type": "code",
   "execution_count": null,
   "id": "70181182",
   "metadata": {
    "lines_to_next_cell": 0
   },
   "outputs": [],
   "source": [
    "## Using gcc"
   ]
  },
  {
   "cell_type": "code",
   "execution_count": null,
   "id": "a929658b",
   "metadata": {
    "lines_to_next_cell": 0
   },
   "outputs": [],
   "source": [
    "!gcc laplacian_filter_gcc_opt.c -std=c99 -shared -fPIC -O3 -o laplacian_filter_gcc_opt.so -mavx512f -march=znver4"
   ]
  },
  {
   "cell_type": "code",
   "execution_count": null,
   "id": "d4fe59eb",
   "metadata": {
    "lines_to_next_cell": 0
   },
   "outputs": [],
   "source": [
    "!ls -l laplacian_filter_gcc_opt.so"
   ]
  },
  {
   "cell_type": "code",
   "execution_count": null,
   "id": "a8c637ca",
   "metadata": {
    "lines_to_next_cell": 0
   },
   "outputs": [],
   "source": [
    "import os\n",
    "import ctypes\n",
    "\n",
    "# load the function from the shared library\n",
    "clib = ctypes.cdll.LoadLibrary(os.path.join(os.getcwd(), 'laplacian_filter_gcc_opt.so'))\n",
    "clib.laplacian_filter_gcc_opt.argtypes = [\n",
    "    ctypes.POINTER(ctypes.c_double),\n",
    "    ctypes.c_int,\n",
    "    ctypes.c_int,\n",
    "    ctypes.POINTER(ctypes.c_double),\n",
    "]\n",
    "\n",
    "def laplacian_filter_ctypes_gcc_opt(mat, m, n, retval):\n",
    "    mat_ptr = mat.ctypes.data_as(ctypes.POINTER(ctypes.c_double))\n",
    "    retval_ptr = retval.ctypes.data_as(ctypes.POINTER(ctypes.c_double))\n",
    "\n",
    "    clib.laplacian_filter_gcc_opt(mat_ptr, m, n, retval_ptr)"
   ]
  },
  {
   "cell_type": "code",
   "execution_count": null,
   "id": "27303d03",
   "metadata": {
    "lines_to_next_cell": 0
   },
   "outputs": [],
   "source": [
    "laplacian_filter_ctypes_gcc_opt(mat_flat, m, n, mat_edges_flat)\n",
    "pyplot.imshow(mat_edges_flat.reshape(m, n) > 0, cmap='gray')\n",
    "pyplot.colorbar()\n",
    "pyplot.title('Laplacian Filter - Edges Detected')\n",
    "pyplot.tight_layout()\n",
    "pyplot.show()"
   ]
  },
  {
   "cell_type": "code",
   "execution_count": null,
   "id": "16a367f2",
   "metadata": {},
   "outputs": [],
   "source": [
    "timeit_ctypes_opt = %timeit -o laplacian_filter_ctypes_gcc_opt(mat_flat, m, n, mat_edges_flat)\n",
    "time_ctypes_opt = timeit_ctypes_opt.best\n",
    "\n",
    "# save the value into a dictionary\n",
    "time_results['Ctypes GCC opt'] = time_ctypes_opt\n",
    "\n",
    "pyplot.bar(time_results.keys(), time_results.values())\n",
    "pyplot.ylabel('Time (s)')\n",
    "pyplot.title('Execution Time')\n",
    "pyplot.xticks(rotation=90)\n",
    "pyplot.tight_layout()\n",
    "pyplot.yscale('log')  # set y-axis to log scale\n",
    "pyplot.show()"
   ]
  },
  {
   "cell_type": "code",
   "execution_count": null,
   "id": "60e4f737",
   "metadata": {
    "lines_to_next_cell": 2
   },
   "outputs": [],
   "source": [
    "## Using assembly\n",
    "\n",
    "## .. todo:: Add assembly implementation"
   ]
  },
  {
   "cell_type": "code",
   "execution_count": null,
   "id": "772e9e28",
   "metadata": {},
   "outputs": [],
   "source": [
    "# find the minimum time and plot all bars with the minimum time in red\n",
    "min_time = min(time_results.values())\n",
    "min_time_key = [key for key in time_results if time_results[key] == min_time][0]\n",
    "\n",
    "# Plot all bars\n",
    "colors = ['red' if key == min_time_key else 'blue' for key in time_results.keys()]\n",
    "bars = pyplot.bar(time_results.keys(), time_results.values(), color=colors)\n",
    "\n",
    "# Add text labels showing speedup relative to minimum time\n",
    "for key, value in time_results.items():\n",
    "    inv_speedup = value / min_time  # This is the relative slowdown factor\n",
    "    pyplot.text(key, value, f'{int(inv_speedup)}x' if inv_speedup > 10 else f'{inv_speedup:.2f}x', ha='center')\n",
    "\n",
    "pyplot.grid(axis='y')\n",
    "pyplot.ylabel('Time (s)')\n",
    "pyplot.title('Execution Time')\n",
    "pyplot.xticks(rotation=90)\n",
    "pyplot.tight_layout()\n",
    "pyplot.yscale('log')  # set y-axis to log scale\n",
    "pyplot.show()"
   ]
  },
  {
   "cell_type": "code",
   "execution_count": null,
   "id": "2714c1bd",
   "metadata": {},
   "outputs": [],
   "source": []
  }
 ],
 "metadata": {
  "jupytext": {
   "cell_metadata_filter": "-all",
   "main_language": "python",
   "notebook_metadata_filter": "-all"
  },
  "kernelspec": {
   "display_name": "Python 3 (ipykernel)",
   "language": "python",
   "name": "python3"
  },
  "language_info": {
   "codemirror_mode": {
    "name": "ipython",
    "version": 3
   },
   "file_extension": ".py",
   "mimetype": "text/x-python",
   "name": "python",
   "nbconvert_exporter": "python",
   "pygments_lexer": "ipython3",
   "version": "3.11.0"
  }
 },
 "nbformat": 4,
 "nbformat_minor": 5
}
