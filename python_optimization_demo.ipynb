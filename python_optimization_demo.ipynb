{
 "cells": [
  {
   "cell_type": "markdown",
   "metadata": {},
   "source": [
    "# install prerequisites"
   ]
  },
  {
   "cell_type": "code",
   "execution_count": null,
   "metadata": {},
   "outputs": [],
   "source": [
    "!pip install --user pillow scipy numba"
   ]
  },
  {
   "cell_type": "markdown",
   "metadata": {
    "collapsed": true
   },
   "source": [
    "## load an image"
   ]
  },
  {
   "cell_type": "code",
   "execution_count": null,
   "metadata": {},
   "outputs": [],
   "source": [
    "import numpy\n",
    "from scipy.misc import imread \n",
    "\n",
    "mat = imread('sample.jpg').astype('f8')\n",
    "m, n = mat.shape"
   ]
  },
  {
   "cell_type": "code",
   "execution_count": null,
   "metadata": {},
   "outputs": [],
   "source": [
    "%matplotlib inline\n",
    "from matplotlib import pyplot\n",
    "pyplot.imshow(mat, cmap='gray')"
   ]
  },
  {
   "cell_type": "markdown",
   "metadata": {},
   "source": [
    "# Pure Python Implementation"
   ]
  },
  {
   "cell_type": "code",
   "execution_count": null,
   "metadata": {},
   "outputs": [],
   "source": [
    "def generate_zeros_matrix(m, n):\n",
    "    return [[0 for _ in range(n)] for _ in range(m)]"
   ]
  },
  {
   "cell_type": "code",
   "execution_count": null,
   "metadata": {},
   "outputs": [],
   "source": [
    "def laplacian_filter_pure_python(mat, retval):\n",
    "    for c in range(1, n - 1):\n",
    "        for r in range(1, m - 1):\n",
    "            retval[r][c] = -4.0*mat[r][c] + mat[r-1][c] + mat[r+1][c] + mat[r][c - 1] + mat[r][c + 1]"
   ]
  },
  {
   "cell_type": "code",
   "execution_count": null,
   "metadata": {},
   "outputs": [],
   "source": [
    "def laplacian_filter_pure_python_row_sweep(mat, retval):\n",
    "    for r in range(1, m - 1):\n",
    "        for c in range(1, n - 1):\n",
    "            retval[r][c] = -4.0*mat[r][c] + mat[r-1][c] + mat[r+1][c] + mat[r][c - 1] + mat[r][c + 1]    "
   ]
  },
  {
   "cell_type": "code",
   "execution_count": null,
   "metadata": {},
   "outputs": [],
   "source": [
    "# convert the numpy image to a list of lists\n",
    "mat_list_of_lists = [[pixel for pixel in row] for row in mat] "
   ]
  },
  {
   "cell_type": "code",
   "execution_count": null,
   "metadata": {},
   "outputs": [],
   "source": [
    "# create the matrix that will hold the \"filtered\" image (with the edges)\n",
    "mat_edges = generate_zeros_matrix(m, n)"
   ]
  },
  {
   "cell_type": "code",
   "execution_count": null,
   "metadata": {},
   "outputs": [],
   "source": [
    "laplacian_filter_pure_python(mat_list_of_lists, mat_edges)\n",
    "pyplot.imshow(mat_edges, cmap='gray')"
   ]
  },
  {
   "cell_type": "code",
   "execution_count": null,
   "metadata": {},
   "outputs": [],
   "source": [
    "%timeit laplacian_filter_pure_python(mat_list_of_lists, mat_edges)"
   ]
  },
  {
   "cell_type": "code",
   "execution_count": null,
   "metadata": {},
   "outputs": [],
   "source": [
    "%timeit laplacian_filter_pure_python_row_sweep(mat_list_of_lists, mat_edges)"
   ]
  },
  {
   "cell_type": "markdown",
   "metadata": {},
   "source": [
    "# Numpy"
   ]
  },
  {
   "cell_type": "markdown",
   "metadata": {},
   "source": [
    "## iterate over the numpy array with python loops"
   ]
  },
  {
   "cell_type": "code",
   "execution_count": null,
   "metadata": {},
   "outputs": [],
   "source": [
    "def laplacian_filter_numpy_python_loops(mat, retval):\n",
    "    m, n = mat.shape\n",
    "    for r in range(1, m - 1):\n",
    "        for c in range(1, n - 1):\n",
    "            retval[r][c] = -4.0*mat[r][c] + mat[r-1][c] + mat[r+1][c] + mat[r][c - 1] + mat[r][c + 1]\n",
    "    return retval"
   ]
  },
  {
   "cell_type": "code",
   "execution_count": null,
   "metadata": {},
   "outputs": [],
   "source": [
    "mat_edges = numpy.zeros_like(mat)\n",
    "laplacian_filter_numpy_python_loops(mat, mat_edges)\n",
    "pyplot.imshow(mat_edges, cmap='gray')"
   ]
  },
  {
   "cell_type": "code",
   "execution_count": null,
   "metadata": {},
   "outputs": [],
   "source": [
    "%timeit laplacian_filter_numpy_python_loops(mat, mat_edges)"
   ]
  },
  {
   "cell_type": "markdown",
   "metadata": {},
   "source": [
    "## numpy operations only (no explicit python loops)"
   ]
  },
  {
   "cell_type": "code",
   "execution_count": null,
   "metadata": {},
   "outputs": [],
   "source": [
    "from functools import reduce\n",
    "def laplacian_filter_numpy_roll(mat):\n",
    "    mat_ext = numpy.pad(mat, 1, 'constant')\n",
    "\n",
    "    rolled = [\n",
    "        numpy.roll(mat_ext, 1, 0),\n",
    "        numpy.roll(mat_ext, -1, 0),\n",
    "        numpy.roll(mat_ext, 1, 1),\n",
    "        numpy.roll(mat_ext, -1, 1)\n",
    "    ]\n",
    "    retval = reduce(numpy.add, rolled)[1:-1, 1:-1] - 4.0*mat"
   ]
  },
  {
   "cell_type": "code",
   "execution_count": null,
   "metadata": {},
   "outputs": [],
   "source": [
    "laplacian_filter_numpy_roll(mat)\n",
    "pyplot.imshow(mat_edges, cmap='gray')"
   ]
  },
  {
   "cell_type": "code",
   "execution_count": null,
   "metadata": {},
   "outputs": [],
   "source": [
    "%timeit laplacian_filter_numpy_roll(mat)"
   ]
  },
  {
   "cell_type": "markdown",
   "metadata": {},
   "source": [
    "## numpy operations only (no explicit python loops - lower memory footprint)"
   ]
  },
  {
   "cell_type": "code",
   "execution_count": null,
   "metadata": {},
   "outputs": [],
   "source": [
    "def laplacian_filter_numpy_map_reduce(mat):\n",
    "\n",
    "    mat_ext = numpy.pad(mat, 1, 'constant')\n",
    "    \n",
    "    retval = reduce(\n",
    "        numpy.add,\n",
    "        map(lambda args: numpy.roll(mat_ext, shift=args[0], axis=args[1]), [[-1, 0], [1, 0], [-1, 1], [1, 1]])\n",
    "    )\n",
    "\n",
    "    retval = retval[1:-1, 1:-1] - 4.0*mat\n",
    "\n",
    "    return retval"
   ]
  },
  {
   "cell_type": "code",
   "execution_count": null,
   "metadata": {},
   "outputs": [],
   "source": [
    "laplacian_filter_numpy_map_reduce(mat)\n",
    "pyplot.imshow(mat_edges, cmap='gray')"
   ]
  },
  {
   "cell_type": "code",
   "execution_count": null,
   "metadata": {},
   "outputs": [],
   "source": [
    "%timeit laplacian_filter_numpy_map_reduce(mat)"
   ]
  },
  {
   "cell_type": "markdown",
   "metadata": {},
   "source": [
    "## pure python code + numba"
   ]
  },
  {
   "cell_type": "code",
   "execution_count": null,
   "metadata": {},
   "outputs": [],
   "source": [
    "from numba import jit, double\n",
    "import numba"
   ]
  },
  {
   "cell_type": "code",
   "execution_count": null,
   "metadata": {},
   "outputs": [],
   "source": [
    "@jit\n",
    "def laplacian_filter_numba(mat, retval):\n",
    "    m, n = mat.shape\n",
    "    for c in range(1, n - 1):\n",
    "        for r in range(1, m - 1):\n",
    "            retval[r, c] = -4.0*mat[r, c] + mat[r-1, c] + mat[r+1, c] + mat[r, c - 1] + mat[r, c + 1]"
   ]
  },
  {
   "cell_type": "code",
   "execution_count": null,
   "metadata": {},
   "outputs": [],
   "source": [
    "@jit\n",
    "def laplacian_filter_numba_row(mat, retval):\n",
    "    m, n = mat.shape\n",
    "    for r in range(1, m - 1):\n",
    "        for c in range(1, n - 1):\n",
    "            retval[r, c] = -4.0*mat[r, c] + mat[r-1, c] + mat[r+1, c] + mat[r, c - 1] + mat[r, c + 1]"
   ]
  },
  {
   "cell_type": "code",
   "execution_count": null,
   "metadata": {},
   "outputs": [],
   "source": [
    "laplacian_filter_numba(mat, mat_edges)\n",
    "pyplot.imshow(mat_edges, cmap='gray')"
   ]
  },
  {
   "cell_type": "code",
   "execution_count": null,
   "metadata": {},
   "outputs": [],
   "source": [
    "%timeit laplacian_filter_numba(mat, mat_edges)"
   ]
  },
  {
   "cell_type": "code",
   "execution_count": null,
   "metadata": {},
   "outputs": [],
   "source": [
    "%timeit laplacian_filter_numba_row(mat, mat_edges)"
   ]
  },
  {
   "cell_type": "markdown",
   "metadata": {},
   "source": [
    "# Cython"
   ]
  },
  {
   "cell_type": "code",
   "execution_count": null,
   "metadata": {},
   "outputs": [],
   "source": [
    "%%file laplacian_filter_cython.pyx\n",
    "\n",
    "import numpy as np\n",
    "cimport numpy as np\n",
    "\n",
    "def laplacian_filter_numpy_cython(np.ndarray mat, np.ndarray retval):\n",
    "    cdef int m = mat.shape[0]\n",
    "    cdef int n = mat.shape[1]\n",
    "    cdef int r, c\n",
    "\n",
    "    for r in range(1, m - 1):\n",
    "        for c in range(1, n - 1):\n",
    "            retval[r, c] = -4.0*mat[r, c] + mat[r-1, c] + mat[r+1, c] + mat[r, c - 1] + mat[r, c + 1]\n",
    "    return retval"
   ]
  },
  {
   "cell_type": "code",
   "execution_count": null,
   "metadata": {},
   "outputs": [],
   "source": [
    "%%file setup.py\n",
    "\n",
    "import numpy\n",
    "from distutils.core import setup\n",
    "from Cython.Build import cythonize\n",
    "\n",
    "setup(\n",
    "    ext_modules = cythonize(\"laplacian_filter_cython.pyx\"),\n",
    "    include_dirs=[numpy.get_include()]\n",
    ")\n"
   ]
  },
  {
   "cell_type": "code",
   "execution_count": null,
   "metadata": {},
   "outputs": [],
   "source": [
    "!python3 setup.py build_ext --inplace"
   ]
  },
  {
   "cell_type": "code",
   "execution_count": null,
   "metadata": {},
   "outputs": [],
   "source": [
    "from laplacian_filter_cython import laplacian_filter_numpy_cython"
   ]
  },
  {
   "cell_type": "code",
   "execution_count": null,
   "metadata": {},
   "outputs": [],
   "source": [
    "laplacian_filter_numpy_cython(mat, mat_edges)\n",
    "pyplot.imshow(mat_edges, cmap='gray')"
   ]
  },
  {
   "cell_type": "code",
   "execution_count": null,
   "metadata": {},
   "outputs": [],
   "source": [
    "%timeit laplacian_filter_numpy_cython(mat, mat_edges)"
   ]
  },
  {
   "cell_type": "markdown",
   "metadata": {},
   "source": [
    "# Ctypes"
   ]
  },
  {
   "cell_type": "code",
   "execution_count": null,
   "metadata": {},
   "outputs": [],
   "source": [
    "%%file laplacian_filter.c\n",
    "\n",
    "#include <stdio.h>\n",
    "#include <stdlib.h>\n",
    "//#include <omp.h>\n",
    "\n",
    "void laplacian_filter(double *mat, const int m, const int n, double *retval)\n",
    "{\n",
    "//#pragma omp parallel for  shared(mat, retval)\n",
    "    for( int r = 1; r < m - 1; r++)\n",
    "    {\n",
    "        for( int c = 1; c < n - 1; c++)\n",
    "        {\n",
    "            const int i = r*n + c;\n",
    "            const int i_top = (r+1)*n + c;\n",
    "            const int i_bottom = (r-1)*n + c;\n",
    "            const int i_left = r*n + (c-1);\n",
    "            const int i_right = r*n + (c+1);\n",
    "           \n",
    "            retval[i] = -4.0*mat[i] + mat[i_bottom] + mat[i_top] + mat[i_left] + mat[i_right];\n",
    "        }\n",
    "    }\n",
    "}"
   ]
  },
  {
   "cell_type": "code",
   "execution_count": null,
   "metadata": {},
   "outputs": [],
   "source": [
    "!gcc laplacian_filter.c -shared -fPIC -O3 -o laplacian_filter_gcc.so"
   ]
  },
  {
   "cell_type": "code",
   "execution_count": null,
   "metadata": {},
   "outputs": [],
   "source": [
    "!ls -l laplacian_filter_gcc.so"
   ]
  },
  {
   "cell_type": "code",
   "execution_count": null,
   "metadata": {},
   "outputs": [],
   "source": [
    "import ctypes\n",
    "\n",
    "# load the function from the shared library\n",
    "clib = ctypes.cdll.LoadLibrary('laplacian_filter_gcc.so')\n",
    "clib.laplacian_filter.argtypes = [\n",
    "    ctypes.POINTER(ctypes.c_double),\n",
    "    ctypes.c_int,\n",
    "    ctypes.c_int,\n",
    "    ctypes.POINTER(ctypes.c_double),\n",
    "]\n",
    "\n",
    "\n",
    "def laplacian_filter_ctypes_gcc(mat, m, n, retval):\n",
    "    mat_ptr = mat.ctypes.data_as(ctypes.POINTER(ctypes.c_double))\n",
    "    retval_ptr = retval.ctypes.data_as(ctypes.POINTER(ctypes.c_double))\n",
    "\n",
    "    clib.laplacian_filter(mat_ptr, m, n, retval_ptr)"
   ]
  },
  {
   "cell_type": "code",
   "execution_count": null,
   "metadata": {},
   "outputs": [],
   "source": [
    "m, n = mat.shape\n",
    "mat_flat = mat.flatten()\n",
    "mat_edges_flat = numpy.zeros_like(mat_flat)\n",
    "\n",
    "laplacian_filter_ctypes_gcc(mat_flat, m, n, mat_edges_flat)\n",
    "pyplot.imshow(mat_edges_flat.reshape(m, n), cmap='gray')"
   ]
  },
  {
   "cell_type": "code",
   "execution_count": null,
   "metadata": {},
   "outputs": [],
   "source": [
    "%timeit laplacian_filter_ctypes_gcc(mat_flat, m, n, mat_edges_flat)"
   ]
  },
  {
   "cell_type": "code",
   "execution_count": null,
   "metadata": {},
   "outputs": [],
   "source": [
    "!icc laplacian_filter.c -shared -fPIC -xHOST -limf -o laplacian_filter_icc.so"
   ]
  },
  {
   "cell_type": "code",
   "execution_count": null,
   "metadata": {},
   "outputs": [],
   "source": [
    "import ctypes\n",
    "\n",
    "# load the function from the shared library\n",
    "clib = ctypes.cdll.LoadLibrary('laplacian_filter_icc.so')\n",
    "clib.laplacian_filter.argtypes = [\n",
    "    ctypes.POINTER(ctypes.c_double),\n",
    "    ctypes.c_int,\n",
    "    ctypes.c_int,\n",
    "    ctypes.POINTER(ctypes.c_double),\n",
    "]\n",
    "\n",
    "\n",
    "def laplacian_filter_ctypes_icc(mat, m, n, retval):\n",
    "    mat_ptr = mat.ctypes.data_as(ctypes.POINTER(ctypes.c_double))\n",
    "    retval_ptr = retval.ctypes.data_as(ctypes.POINTER(ctypes.c_double))\n",
    "    \n",
    "    clib.laplacian_filter(mat_ptr, m, n, retval_ptr)\n",
    "\n",
    "m, n = mat.shape\n",
    "mat_flat = mat.flatten()\n",
    "mat_edges_flat = numpy.zeros_like(mat_flat)\n",
    "\n",
    "laplacian_filter_ctypes_icc(mat_flat, m, n, mat_edges_flat)\n",
    "pyplot.imshow(mat_edges_flat.reshape(m, n), cmap='gray')"
   ]
  },
  {
   "cell_type": "code",
   "execution_count": null,
   "metadata": {},
   "outputs": [],
   "source": [
    "%timeit laplacian_filter_ctypes_icc(mat_flat, m, n, mat_edges_flat)"
   ]
  },
  {
   "cell_type": "code",
   "execution_count": null,
   "metadata": {},
   "outputs": [],
   "source": [
    "mat_large = imread('sample_large.jpg').astype('f8')\n",
    "pyplot.imshow(mat_large, cmap='gray')"
   ]
  },
  {
   "cell_type": "code",
   "execution_count": null,
   "metadata": {},
   "outputs": [],
   "source": [
    "%timeit laplacian_filter_ctypes_gcc(mat_large_flat, m_large, n_large, mat_large_edges_flat)\n",
    "%timeit laplacian_filter_ctypes_icc(mat_large_flat, m_large, n_large, mat_large_edges_flat)"
   ]
  },
  {
   "cell_type": "code",
   "execution_count": null,
   "metadata": {},
   "outputs": [],
   "source": [
    "mat_edges"
   ]
  },
  {
   "cell_type": "code",
   "execution_count": null,
   "metadata": {},
   "outputs": [],
   "source": []
  }
 ],
 "metadata": {
  "kernelspec": {
   "display_name": "Python 3",
   "language": "python",
   "name": "python3"
  },
  "language_info": {
   "codemirror_mode": {
    "name": "ipython",
    "version": 3
   },
   "file_extension": ".py",
   "mimetype": "text/x-python",
   "name": "python",
   "nbconvert_exporter": "python",
   "pygments_lexer": "ipython3",
   "version": "3.6.1"
  }
 },
 "nbformat": 4,
 "nbformat_minor": 2
}
