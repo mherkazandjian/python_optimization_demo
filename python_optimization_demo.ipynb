{
 "cells": [
  {
   "cell_type": "markdown",
   "metadata": {},
   "source": [
    "# install prerequisites\n",
    "\n",
    "### WARNING: \n",
    "some packages will probably be upgraded some packages.\n",
    "Create a virtual env if you want to keep your packages intact"
   ]
  },
  {
   "cell_type": "code",
   "execution_count": null,
   "metadata": {
    "collapsed": false
   },
   "outputs": [],
   "source": [
    "!pip3 install --user pillow scipy numba"
   ]
  },
  {
   "cell_type": "markdown",
   "metadata": {
    "collapsed": true
   },
   "source": [
    "## Load an image (1000 x 1000 pixels) and display it"
   ]
  },
  {
   "cell_type": "code",
   "execution_count": null,
   "metadata": {
    "collapsed": true
   },
   "outputs": [],
   "source": [
    "import numpy\n",
    "from scipy.misc import imread \n",
    "\n",
    "mat = imread('sample.jpg').astype('f8')\n",
    "m, n = mat.shape"
   ]
  },
  {
   "cell_type": "code",
   "execution_count": null,
   "metadata": {
    "collapsed": false
   },
   "outputs": [],
   "source": [
    "%matplotlib inline\n",
    "from matplotlib import pyplot\n",
    "pyplot.imshow(mat, cmap='gray')"
   ]
  },
  {
   "cell_type": "markdown",
   "metadata": {},
   "source": [
    "# Pure Python Implementation\n",
    "\n",
    "### utility function that generates a matrix as a list of lists"
   ]
  },
  {
   "cell_type": "code",
   "execution_count": null,
   "metadata": {
    "collapsed": true
   },
   "outputs": [],
   "source": [
    "def generate_zeros_matrix(m, n):\n",
    "    return [[0 for _ in range(n)] for _ in range(m)]"
   ]
  },
  {
   "cell_type": "markdown",
   "metadata": {},
   "source": [
    "### function that apply the filter by iterating over columns"
   ]
  },
  {
   "cell_type": "code",
   "execution_count": null,
   "metadata": {
    "collapsed": true
   },
   "outputs": [],
   "source": [
    "def laplacian_filter_pure_python(mat, retval):\n",
    "    for c in range(1, n - 1):\n",
    "        for r in range(1, m - 1):\n",
    "            retval[r][c] = -4.0*mat[r][c] +     \\\n",
    "                                mat[r-1][c] +   \\\n",
    "                                mat[r+1][c] +   \\\n",
    "                                mat[r][c - 1] + \\\n",
    "                                mat[r][c + 1]"
   ]
  },
  {
   "cell_type": "markdown",
   "metadata": {},
   "source": [
    "### function that apply the filter by iterating over rows"
   ]
  },
  {
   "cell_type": "code",
   "execution_count": null,
   "metadata": {
    "collapsed": true
   },
   "outputs": [],
   "source": [
    "def laplacian_filter_pure_python_row_sweep(mat, retval):\n",
    "    for r in range(1, m - 1):\n",
    "        for c in range(1, n - 1):\n",
    "            retval[r][c] = -4.0*mat[r][c] +      \\\n",
    "                                mat[r-1][c] +    \\\n",
    "                                mat[r+1][c] +    \\\n",
    "                                mat[r][c - 1] +  \\\n",
    "                                mat[r][c + 1]    "
   ]
  },
  {
   "cell_type": "code",
   "execution_count": null,
   "metadata": {
    "collapsed": true
   },
   "outputs": [],
   "source": [
    "# convert the numpy image to a list of lists\n",
    "mat_list_of_lists = [[pixel for pixel in row] for row in mat] "
   ]
  },
  {
   "cell_type": "code",
   "execution_count": null,
   "metadata": {
    "collapsed": true
   },
   "outputs": [],
   "source": [
    "# create the matrix that will hold the \"filtered\" image (with the edges)\n",
    "mat_edges = generate_zeros_matrix(m, n)"
   ]
  },
  {
   "cell_type": "code",
   "execution_count": null,
   "metadata": {
    "collapsed": false
   },
   "outputs": [],
   "source": [
    "# apply the filter and display the convolved image\n",
    "laplacian_filter_pure_python(mat_list_of_lists, mat_edges)\n",
    "pyplot.imshow(mat_edges, cmap='gray')"
   ]
  },
  {
   "cell_type": "code",
   "execution_count": null,
   "metadata": {
    "collapsed": true
   },
   "outputs": [],
   "source": [
    "%timeit laplacian_filter_pure_python(mat_list_of_lists, mat_edges)"
   ]
  },
  {
   "cell_type": "code",
   "execution_count": null,
   "metadata": {
    "collapsed": true
   },
   "outputs": [],
   "source": [
    "%timeit laplacian_filter_pure_python_row_sweep(mat_list_of_lists, mat_edges)"
   ]
  },
  {
   "cell_type": "markdown",
   "metadata": {},
   "source": [
    "# Numpy"
   ]
  },
  {
   "cell_type": "markdown",
   "metadata": {},
   "source": [
    "## Iterate over the numpy array with python loops"
   ]
  },
  {
   "cell_type": "code",
   "execution_count": null,
   "metadata": {
    "collapsed": true
   },
   "outputs": [],
   "source": [
    "def laplacian_filter_numpy_python_loops(mat, retval):\n",
    "    m, n = mat.shape\n",
    "    for r in range(1, m - 1):\n",
    "        for c in range(1, n - 1):\n",
    "            retval[r][c] = -4.0*mat[r][c] +     \\\n",
    "                                mat[r-1][c] +   \\\n",
    "                                mat[r+1][c] +   \\\n",
    "                                mat[r][c - 1] + \\\n",
    "                                mat[r][c + 1]\n",
    "    return retval"
   ]
  },
  {
   "cell_type": "code",
   "execution_count": null,
   "metadata": {
    "collapsed": false
   },
   "outputs": [],
   "source": [
    "mat_edges = numpy.zeros_like(mat)\n",
    "laplacian_filter_numpy_python_loops(mat, mat_edges)\n",
    "pyplot.imshow(mat_edges > 0, cmap='gray')"
   ]
  },
  {
   "cell_type": "code",
   "execution_count": null,
   "metadata": {
    "collapsed": false
   },
   "outputs": [],
   "source": [
    "%timeit laplacian_filter_numpy_python_loops(mat, mat_edges)"
   ]
  },
  {
   "cell_type": "markdown",
   "metadata": {},
   "source": [
    "## Numpy vectorized operations only (no explicit python loops)"
   ]
  },
  {
   "cell_type": "code",
   "execution_count": null,
   "metadata": {
    "collapsed": true
   },
   "outputs": [],
   "source": [
    "from functools import reduce\n",
    "def laplacian_filter_numpy_roll(mat):\n",
    "    mat_ext = numpy.pad(mat, 1, 'constant')\n",
    "\n",
    "    rolled = [\n",
    "        numpy.roll(mat_ext, 1, 0),\n",
    "        numpy.roll(mat_ext, -1, 0),\n",
    "        numpy.roll(mat_ext, 1, 1),\n",
    "        numpy.roll(mat_ext, -1, 1)\n",
    "    ]\n",
    "    retval = reduce(numpy.add, rolled)[1:-1, 1:-1] - 4.0*mat\n",
    "    return retval"
   ]
  },
  {
   "cell_type": "code",
   "execution_count": null,
   "metadata": {
    "collapsed": false
   },
   "outputs": [],
   "source": [
    "mat_edges = laplacian_filter_numpy_roll(mat)\n",
    "pyplot.imshow(mat_edges > 0, cmap='gray')"
   ]
  },
  {
   "cell_type": "code",
   "execution_count": null,
   "metadata": {
    "collapsed": false
   },
   "outputs": [],
   "source": [
    "%timeit laplacian_filter_numpy_roll(mat)"
   ]
  },
  {
   "cell_type": "markdown",
   "metadata": {},
   "source": [
    "## Numpy operations only (lower memory footprint)"
   ]
  },
  {
   "cell_type": "code",
   "execution_count": null,
   "metadata": {
    "collapsed": true
   },
   "outputs": [],
   "source": [
    "def laplacian_filter_numpy_map_reduce(mat):\n",
    "\n",
    "    mat_ext = numpy.pad(mat, 1, 'constant')\n",
    "    \n",
    "    retval = reduce(\n",
    "        numpy.add,\n",
    "        map(lambda args: numpy.roll(\n",
    "            mat_ext, shift=args[0], \n",
    "            axis=args[1]), \n",
    "            [[-1, 0], [1, 0], [-1, 1], [1, 1]])\n",
    "    )\n",
    "\n",
    "    return retval[1:-1, 1:-1] - 4.0*mat"
   ]
  },
  {
   "cell_type": "code",
   "execution_count": null,
   "metadata": {
    "collapsed": false
   },
   "outputs": [],
   "source": [
    "mat_edges = laplacian_filter_numpy_map_reduce(mat)\n",
    "pyplot.imshow(mat_edges > 0, cmap='gray')"
   ]
  },
  {
   "cell_type": "code",
   "execution_count": null,
   "metadata": {
    "collapsed": false
   },
   "outputs": [],
   "source": [
    "%timeit laplacian_filter_numpy_map_reduce(mat)"
   ]
  },
  {
   "cell_type": "markdown",
   "metadata": {},
   "source": [
    "## Pure python code + numba\n",
    "\n",
    "https://github.com/numba/numba"
   ]
  },
  {
   "cell_type": "code",
   "execution_count": null,
   "metadata": {
    "collapsed": true
   },
   "outputs": [],
   "source": [
    "from numba import jit"
   ]
  },
  {
   "cell_type": "markdown",
   "metadata": {},
   "source": [
    "### only difference between \"laplacian_filter_numpy_python_loops\" is \"@jit\""
   ]
  },
  {
   "cell_type": "code",
   "execution_count": null,
   "metadata": {
    "collapsed": false
   },
   "outputs": [],
   "source": [
    "@jit\n",
    "def laplacian_filter_numba(mat, retval):\n",
    "    m, n = mat.shape\n",
    "    for c in range(1, n - 1):\n",
    "        for r in range(1, m - 1):\n",
    "            retval[r, c] = -4.0*mat[r, c] +     \\\n",
    "                                mat[r-1, c] +   \\\n",
    "                                mat[r+1, c] +   \\\n",
    "                                mat[r, c - 1] + \\\n",
    "                                mat[r, c + 1]"
   ]
  },
  {
   "cell_type": "markdown",
   "metadata": {},
   "source": [
    "### iterate over the rows instead of columns "
   ]
  },
  {
   "cell_type": "code",
   "execution_count": null,
   "metadata": {
    "collapsed": true
   },
   "outputs": [],
   "source": [
    "@jit\n",
    "def laplacian_filter_numba_row(mat, retval):\n",
    "    m, n = mat.shape\n",
    "    for r in range(1, m - 1):\n",
    "        for c in range(1, n - 1):\n",
    "            retval[r, c] = -4.0*mat[r, c] +     \\\n",
    "                                mat[r-1, c] +   \\\n",
    "                                mat[r+1, c] +   \\\n",
    "                                mat[r, c - 1] + \\\n",
    "                                mat[r, c + 1]"
   ]
  },
  {
   "cell_type": "code",
   "execution_count": null,
   "metadata": {
    "collapsed": false
   },
   "outputs": [],
   "source": [
    "laplacian_filter_numba(mat, mat_edges)\n",
    "pyplot.imshow(mat_edges > 0, cmap='gray')"
   ]
  },
  {
   "cell_type": "code",
   "execution_count": null,
   "metadata": {
    "collapsed": false
   },
   "outputs": [],
   "source": [
    "%timeit laplacian_filter_numba(mat, mat_edges)"
   ]
  },
  {
   "cell_type": "code",
   "execution_count": null,
   "metadata": {
    "collapsed": false
   },
   "outputs": [],
   "source": [
    "%timeit laplacian_filter_numba_row(mat, mat_edges)"
   ]
  },
  {
   "cell_type": "markdown",
   "metadata": {},
   "source": [
    "# Cython\n",
    "\n",
    "https://github.com/cython/cython"
   ]
  },
  {
   "cell_type": "code",
   "execution_count": null,
   "metadata": {
    "collapsed": false
   },
   "outputs": [],
   "source": [
    "!cat cython_bindings/*.pyx"
   ]
  },
  {
   "cell_type": "code",
   "execution_count": null,
   "metadata": {
    "collapsed": false
   },
   "outputs": [],
   "source": [
    "!cat cython_bindings/setup.py"
   ]
  },
  {
   "cell_type": "code",
   "execution_count": null,
   "metadata": {
    "collapsed": false
   },
   "outputs": [],
   "source": [
    "!rm -fvr cython_bindings/*.so\n",
    "!cd cython_bindings && python3 setup.py build_ext --inplace"
   ]
  },
  {
   "cell_type": "code",
   "execution_count": null,
   "metadata": {
    "collapsed": true
   },
   "outputs": [],
   "source": [
    "from cython_bindings.cython_binding import laplacian_filter_py"
   ]
  },
  {
   "cell_type": "markdown",
   "metadata": {},
   "source": [
    "### prepare the data (flatten it)"
   ]
  },
  {
   "cell_type": "code",
   "execution_count": null,
   "metadata": {
    "collapsed": false
   },
   "outputs": [],
   "source": [
    "m, n = mat.shape\n",
    "mat_flat = mat.flatten()\n",
    "mat_edges_flat = numpy.zeros_like(mat_flat)"
   ]
  },
  {
   "cell_type": "code",
   "execution_count": null,
   "metadata": {
    "collapsed": false
   },
   "outputs": [],
   "source": [
    "laplacian_filter_py(mat_flat, m, n, mat_edges_flat)\n",
    "pyplot.imshow(mat_edges.reshape(m, n) > 0, cmap='gray')"
   ]
  },
  {
   "cell_type": "code",
   "execution_count": null,
   "metadata": {
    "collapsed": false
   },
   "outputs": [],
   "source": [
    "%timeit laplacian_filter_py(mat_flat, m, n, mat_edges_flat)"
   ]
  },
  {
   "cell_type": "markdown",
   "metadata": {},
   "source": [
    "# Ctypes\n",
    "https://docs.python.org/3/library/ctypes.html"
   ]
  },
  {
   "cell_type": "code",
   "execution_count": null,
   "metadata": {
    "collapsed": false
   },
   "outputs": [],
   "source": [
    "%%file laplacian_filter.c\n",
    "\n",
    "#include <stdio.h>\n",
    "#include <stdlib.h>\n",
    "\n",
    "void laplacian_filter(double *mat, const int m, const int n, double *retval)\n",
    "{\n",
    "    for( int r = 1; r < m - 1; r++)\n",
    "    {\n",
    "        \n",
    "        const int offset = r*n;\n",
    "\n",
    "        for( int c = 1; c < n - 1; c++)\n",
    "        {\n",
    "            const int i = offset + c;\n",
    "            const int i_top = offset + n + c;\n",
    "            const int i_bottom = offset - n + c;\n",
    "            const int i_left = offset + (c-1);\n",
    "            const int i_right = offset + (c+1);\n",
    "           \n",
    "            retval[i] = -4.0*mat[i] + mat[i_bottom] + mat[i_top] + mat[i_left] + mat[i_right];\n",
    "        }\n",
    "    }\n",
    "}"
   ]
  },
  {
   "cell_type": "markdown",
   "metadata": {},
   "source": [
    "## Using gcc"
   ]
  },
  {
   "cell_type": "code",
   "execution_count": null,
   "metadata": {
    "collapsed": true
   },
   "outputs": [],
   "source": [
    "!gcc laplacian_filter.c -std=c99 -shared -fPIC -O3 -mavx2 -o laplacian_filter_gcc.so"
   ]
  },
  {
   "cell_type": "code",
   "execution_count": null,
   "metadata": {
    "collapsed": false
   },
   "outputs": [],
   "source": [
    "!ls -l laplacian_filter_gcc.so"
   ]
  },
  {
   "cell_type": "code",
   "execution_count": null,
   "metadata": {
    "collapsed": true
   },
   "outputs": [],
   "source": [
    "import os\n",
    "import ctypes\n",
    "\n",
    "# load the function from the shared library\n",
    "clib = ctypes.cdll.LoadLibrary(os.path.join(os.getcwd(), 'laplacian_filter_gcc.so'))\n",
    "clib.laplacian_filter.argtypes = [\n",
    "    ctypes.POINTER(ctypes.c_double),\n",
    "    ctypes.c_int,\n",
    "    ctypes.c_int,\n",
    "    ctypes.POINTER(ctypes.c_double),\n",
    "]\n",
    "\n",
    "\n",
    "def laplacian_filter_ctypes_gcc(mat, m, n, retval):\n",
    "    mat_ptr = mat.ctypes.data_as(ctypes.POINTER(ctypes.c_double))\n",
    "    retval_ptr = retval.ctypes.data_as(ctypes.POINTER(ctypes.c_double))\n",
    "\n",
    "    clib.laplacian_filter(mat_ptr, m, n, retval_ptr)"
   ]
  },
  {
   "cell_type": "code",
   "execution_count": null,
   "metadata": {
    "collapsed": false
   },
   "outputs": [],
   "source": [
    "laplacian_filter_ctypes_gcc(mat_flat, m, n, mat_edges_flat)\n",
    "pyplot.imshow(mat_edges_flat.reshape(m, n) > 0, cmap='gray')"
   ]
  },
  {
   "cell_type": "code",
   "execution_count": null,
   "metadata": {
    "collapsed": false
   },
   "outputs": [],
   "source": [
    "%timeit laplacian_filter_ctypes_gcc(mat_flat, m, n, mat_edges_flat)"
   ]
  },
  {
   "cell_type": "markdown",
   "metadata": {},
   "source": [
    "## Using the Intel compiler (icc) [if you have it]"
   ]
  },
  {
   "cell_type": "code",
   "execution_count": null,
   "metadata": {
    "collapsed": true
   },
   "outputs": [],
   "source": [
    "# !icc laplacian_filter.c -std=gnu99 -shared -fPIC -Ofast -O3 -fno-strict-aliasing -limf -o laplacian_filter_icc.so \n",
    "!icc laplacian_filter.c -std=gnu99 -shared -fPIC -march=core-avx2 -limf -o laplacian_filter_icc.so "
   ]
  },
  {
   "cell_type": "code",
   "execution_count": null,
   "metadata": {
    "collapsed": true
   },
   "outputs": [],
   "source": [
    "!ls -l laplacian_filter_icc.so"
   ]
  },
  {
   "cell_type": "code",
   "execution_count": null,
   "metadata": {
    "collapsed": true
   },
   "outputs": [],
   "source": [
    "import ctypes\n",
    "\n",
    "# load the function from the shared library\n",
    "clib = ctypes.cdll.LoadLibrary(os.path.join(os.getcwd(), 'laplacian_filter_icc.so'))\n",
    "clib.laplacian_filter.argtypes = [\n",
    "    ctypes.POINTER(ctypes.c_double),\n",
    "    ctypes.c_int,\n",
    "    ctypes.c_int,\n",
    "    ctypes.POINTER(ctypes.c_double),\n",
    "]\n",
    "\n",
    "\n",
    "def laplacian_filter_ctypes_icc(mat, m, n, retval):\n",
    "    mat_ptr = mat.ctypes.data_as(ctypes.POINTER(ctypes.c_double))\n",
    "    retval_ptr = retval.ctypes.data_as(ctypes.POINTER(ctypes.c_double))\n",
    "    \n",
    "    clib.laplacian_filter(mat_ptr, m, n, retval_ptr)\n",
    "\n",
    "m, n = mat.shape\n",
    "mat_flat = mat.flatten()\n",
    "mat_edges_flat = numpy.zeros_like(mat_flat)\n",
    "\n",
    "laplacian_filter_ctypes_icc(mat_flat, m, n, mat_edges_flat)\n",
    "pyplot.imshow(mat_edges_flat.reshape(m, n) > 0, cmap='gray')"
   ]
  },
  {
   "cell_type": "code",
   "execution_count": null,
   "metadata": {
    "collapsed": true
   },
   "outputs": [],
   "source": [
    "%timeit laplacian_filter_ctypes_icc(mat_flat, m, n, mat_edges_flat)"
   ]
  },
  {
   "cell_type": "markdown",
   "metadata": {},
   "source": [
    "# comparison between ctypes + gcc, ctypes + icc and numba\n",
    "\n",
    ".. todo:: no comparison yet"
   ]
  },
  {
   "cell_type": "markdown",
   "metadata": {},
   "source": [
    "## Moving forward - Large array that do not fit in the CPU cash"
   ]
  },
  {
   "cell_type": "code",
   "execution_count": null,
   "metadata": {
    "collapsed": true
   },
   "outputs": [],
   "source": [
    "mat_large = imread('sample_large.jpg').astype('f8')\n",
    "pyplot.imshow(mat_large, cmap='gray')\n",
    "\n",
    "m_large, n_large = mat_large.shape\n",
    "mat_large_flat = mat_large.flatten()\n",
    "mat_large_edges_flat = numpy.zeros_like(mat_large_flat)"
   ]
  },
  {
   "cell_type": "code",
   "execution_count": null,
   "metadata": {
    "collapsed": true
   },
   "outputs": [],
   "source": [
    "%timeit laplacian_filter_ctypes_gcc(mat_large_flat, m_large, n_large, mat_large_edges_flat)"
   ]
  },
  {
   "cell_type": "code",
   "execution_count": null,
   "metadata": {
    "collapsed": true
   },
   "outputs": [],
   "source": [
    "%timeit laplacian_filter_ctypes_icc(mat_large_flat, m_large, n_large, mat_large_edges_flat)"
   ]
  },
  {
   "cell_type": "code",
   "execution_count": null,
   "metadata": {
    "collapsed": true
   },
   "outputs": [],
   "source": [
    "mat_large_edges = mat_edges = numpy.zeros_like(mat_large)\n",
    "%timeit laplacian_filter_numba_row(mat_large, mat_edges)"
   ]
  }
 ],
 "metadata": {
  "kernelspec": {
   "display_name": "Python 3",
   "language": "python",
   "name": "python3"
  },
  "language_info": {
   "codemirror_mode": {
    "name": "ipython",
    "version": 3
   },
   "file_extension": ".py",
   "mimetype": "text/x-python",
   "name": "python",
   "nbconvert_exporter": "python",
   "pygments_lexer": "ipython3",
   "version": "3.6.0"
  }
 },
 "nbformat": 4,
 "nbformat_minor": 2
}
